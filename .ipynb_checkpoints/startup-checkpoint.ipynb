{
 "cells": [
  {
   "cell_type": "code",
   "execution_count": 1,
   "id": "1c0483d5",
   "metadata": {},
   "outputs": [
    {
     "name": "stderr",
     "output_type": "stream",
     "text": [
      "Warning : `load_model` does not return WordVectorModel or SupervisedModel any more, but a `FastText` object which is very similar.\n"
     ]
    }
   ],
   "source": [
    "import pandas as pd\n",
    "\n",
    "from dostoevsky.tokenization import RegexTokenizer\n",
    "from dostoevsky.models import FastTextSocialNetworkModel\n",
    "\n",
    "pd.set_option('display.max_columns', None)\n",
    "pd.set_option('max_columns', None)\n",
    "pd.set_option('max_colwidth', None)\n",
    "pd.set_option(\"max_rows\", None)\n",
    "\n",
    "comments = pd.read_csv('all_comment.csv', skiprows=1, names=['movie_id', 'title', 'comment_id', 'comment_text', 'created_at'])\n",
    "\n",
    "comments1 = comments['comment_text']\n",
    "\n",
    "result_model = comments1.to_numpy()\n",
    "\n",
    "model = FastTextSocialNetworkModel(tokenizer = RegexTokenizer())\n",
    "\n",
    "results = model.predict(result_model, k=5,)\n",
    "\n",
    "result_data = zip(comments1, results)\n",
    "\n",
    "result_csv = pd.DataFrame(columns =['movie_id', 'movie_title', 'titile', 'positive', 'negative', 'speech', 'neutral', 'skip'])  \n",
    "\n",
    "p=0\n",
    "n=0\n",
    "s=0\n",
    "neu=0\n",
    "sk=0\n",
    "indexer=0\n",
    "\n",
    "for message, sentiment in result_data:\n",
    "    for data, val in sentiment.items():\n",
    "        if data == 'positive':\n",
    "            p = float(val)\n",
    "        else:    \n",
    "            if data == 'negative':\n",
    "               n = float(val)\n",
    "            else:       \n",
    "                if data =='speech':\n",
    "                   s = float(val)\n",
    "                else:       \n",
    "                    if data == 'neutral':\n",
    "                       neu = float(val)\n",
    "                    else:  \n",
    "                        if data == 'skip':\n",
    "                            sk = float(val)                       \n",
    "    new_row = {'movie_id':comments.iloc[indexer]['movie_id'],'movie_title':comments.iloc[indexer]['title'],'titile':message, 'positive':p, 'negative':n, 'speech':s, 'neutral':neu, 'skip':sk}\n",
    "    indexer+=1\n",
    "    result_csv = result_csv.append(new_row, ignore_index=True)\n",
    "\n",
    "result_csv.to_csv('.resultcsv.csv')\n",
    "# Захардкодить для свита только положительные и только отрицательыне комменты; \n",
    "# вывод в csv результата (title_movie; comment_id; оценками коммента) + \n",
    "# построить график для какого нибудь фильма; \n",
    "# посмотреть другую библиотеку"
   ]
  }
 ],
 "metadata": {
  "interpreter": {
   "hash": "7f9171b8c1054eb11eace701c6df237cd904c22b24e4c34ca498249fd2eab90d"
  },
  "kernelspec": {
   "display_name": "Python 3 (ipykernel)",
   "language": "python",
   "name": "python3"
  },
  "language_info": {
   "codemirror_mode": {
    "name": "ipython",
    "version": 3
   },
   "file_extension": ".py",
   "mimetype": "text/x-python",
   "name": "python",
   "nbconvert_exporter": "python",
   "pygments_lexer": "ipython3",
   "version": "3.9.6"
  }
 },
 "nbformat": 4,
 "nbformat_minor": 5
}
