{
 "cells": [
  {
   "cell_type": "code",
   "execution_count": 3,
   "source": [
    "import pandas as pd\r\n",
    "import matplotlib.pyplot as plt\r\n",
    "\r\n",
    "from dostoevsky.tokenization import RegexTokenizer\r\n",
    "from dostoevsky.models import FastTextSocialNetworkModel\r\n",
    "\r\n",
    "pd.set_option('display.max_columns', None)\r\n",
    "pd.set_option('max_columns', None)\r\n",
    "pd.set_option('max_colwidth', None)\r\n",
    "pd.set_option(\"max_rows\", None)\r\n",
    "\r\n",
    "# comments = pd.read_csv('.resultcsv.csv', skiprows = 1, names = ['movie_id', 'movie_title', 'titile', 'comment_id', 'positive', 'negative', 'speech', 'neutral', 'skip'])\r\n",
    "# comments = comments[(comments['movie_id'] == 2403) & (comments['positive'] > 0.01) & (comments['negative'] > 0.01) & (comments['positive'] < 1) & (comments['negative'] < 1)][['movie_id', 'titile', 'comment_id', 'positive', 'negative']]\r\n",
    "# comments.to_csv('vavilon.csv')\r\n",
    "\r\n",
    "# comments = pd.read_csv('vavilon.csv', skiprows = 1, names = ['movie_id', 'movie_title', 'titile', 'comment_id', 'positive', 'negative', 'speech', 'neutral', 'skip'])\r\n",
    "# df2 = pd.DataFrame(comments, columns=[\"positive\", \"negative\"])\r\n",
    "# df2.plot.bar()\r\n",
    "\r\n",
    "# comments = pd.read_csv('akimbo_guns.csv', skiprows = 1, names = ['movie_id', 'movie_title', 'titile', 'positive', 'negative', 'speech', 'neutral', 'skip'])\r\n",
    "# ncomments = (comments[comments['negative'] >= 0.5])['negative']\r\n",
    "# pcomments = (comments[comments['positive'] >= 0.5])['positive']\r\n",
    "# ax = ncomments.plot()\r\n",
    "# pcomments.plot(ax=ax)\r\n",
    "\r\n",
    "# comments = pd.read_csv('all_comment.csv', skiprows=1, names=['movie_id', 'title', 'comment_id', 'comment_text', 'created_at'])\r\n",
    "# comments1 = comments['comment_text']\r\n",
    "# result_model = comments1.to_numpy()\r\n",
    "# model = FastTextSocialNetworkModel(tokenizer = RegexTokenizer())\r\n",
    "# results = model.predict(result_model, k=5,)\r\n",
    "# result_data = zip(comments1, results)\r\n",
    "# result_csv = pd.DataFrame(columns =['movie_id', 'movie_title', 'titile', 'comment_id', 'positive', 'negative', 'speech', 'neutral', 'skip'])  \r\n",
    "# p=0\r\n",
    "# n=0\r\n",
    "# s=0\r\n",
    "# neu=0\r\n",
    "# sk=0\r\n",
    "# indexer=0\r\n",
    "# for message, sentiment in result_data:\r\n",
    "#     for data, val in sentiment.items():\r\n",
    "#         if data == 'positive':\r\n",
    "#             p = float(val)\r\n",
    "#         else:    \r\n",
    "#             if data == 'negative':\r\n",
    "#                n = float(val)\r\n",
    "#             else:       \r\n",
    "#                 if data =='speech':\r\n",
    "#                    s = float(val)\r\n",
    "#                 else:       \r\n",
    "#                     if data == 'neutral':\r\n",
    "#                        neu = float(val)\r\n",
    "#                     else:  \r\n",
    "#                         if data == 'skip':\r\n",
    "#                             sk = float(val)                       \r\n",
    "#     new_row = {'movie_id':comments.iloc[indexer]['movie_id'],'movie_title':comments.iloc[indexer]['title'],'comment_id':comments.iloc[indexer]['comment_id'],'titile':message, 'positive':p, 'negative':n, 'speech':s, 'neutral':neu, 'skip':sk}\r\n",
    "#     indexer+=1\r\n",
    "#     result_csv = result_csv.append(new_row, ignore_index=True)\r\n",
    "# result_csv.to_csv('.resultcsv.csv')\r\n",
    "\r\n",
    "# Захардкодить для свита только положительные и только отрицательыне комменты; +\r\n",
    "# вывод в csv результата (title_movie; comment_id; оценками коммента) + \r\n",
    "# построить график для какого нибудь фильма; +\r\n",
    "# Сделать словарь и грубым перебором проанализировать для укр локали \r\n",
    "# посмотреть другую библиотеку"
   ],
   "outputs": [
    {
     "output_type": "execute_result",
     "data": {
      "text/plain": [
       "<AxesSubplot:>"
      ]
     },
     "metadata": {},
     "execution_count": 3
    },
    {
     "output_type": "display_data",
     "data": {
      "image/png": "[encoded data removed]",
      "text/plain": [
       "<Figure size 432x288 with 1 Axes>"
      ]
     },
     "metadata": {
      "needs_background": "light"
     }
    }
   ],
   "metadata": {}
  }
 ],
 "metadata": {
  "interpreter": {
   "hash": "7f9171b8c1054eb11eace701c6df237cd904c22b24e4c34ca498249fd2eab90d"
  },
  "kernelspec": {
   "name": "python3",
   "display_name": "Python 3.9.6 64-bit"
  },
  "language_info": {
   "codemirror_mode": {
    "name": "ipython",
    "version": 3
   },
   "file_extension": ".py",
   "mimetype": "text/x-python",
   "name": "python",
   "nbconvert_exporter": "python",
   "pygments_lexer": "ipython3",
   "version": "3.9.6"
  }
 },
 "nbformat": 4,
 "nbformat_minor": 5
}